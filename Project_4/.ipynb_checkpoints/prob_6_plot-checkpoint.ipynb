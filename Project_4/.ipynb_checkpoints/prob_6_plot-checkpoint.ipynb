{
 "cells": [
  {
   "cell_type": "code",
   "execution_count": null,
   "id": "dc492364",
   "metadata": {},
   "outputs": [],
   "source": [
    "# multidimensional arrays\n",
    "import numpy as np\n",
    "import math\n",
    "\n",
    "# inline plots\n",
    "import matplotlib.pyplot as plt\n",
    "%matplotlib inline\n",
    "\n",
    "# nicer figures\n",
    "import matplotlib as mpl\n",
    "mpl.rcParams['axes.titlesize'] = 18\n",
    "mpl.rcParams['axes.labelsize'] = 16\n",
    "mpl.rcParams['xtick.labelsize'] = 14\n",
    "mpl.rcParams['ytick.labelsize'] = 14\n",
    "mpl.rcParams['legend.fontsize'] = 16\n",
    "plt.rcParams[\"figure.figsize\"] = (7,5)"
   ]
  },
  {
   "cell_type": "code",
   "execution_count": null,
   "id": "baa276c8",
   "metadata": {},
   "outputs": [],
   "source": [
    "#reading ? values\n",
    "#t = np.loadtxt(\"time.txt\", usecols=0, dtype='double')"
   ]
  },
  {
   "cell_type": "code",
   "execution_count": null,
   "id": "d4ae4888",
   "metadata": {},
   "outputs": [],
   "source": [
    "# Plotting epsilon histograms\n",
    "plt.hist()\n",
    "\n",
    "# add axis labels\n",
    "plt.xlabel(\"t [$\\mu$s]\")\n",
    "plt.ylabel(\"z [$\\mu$m]\")\n",
    "\n",
    "# add grid\n",
    "plt.grid(linestyle = '--', linewidth = 0.2)\n",
    "\n",
    "# save plot as pdf\n",
    "plt.savefig(\".pdf\")"
   ]
  }
 ],
 "metadata": {
  "kernelspec": {
   "display_name": "Python 3",
   "language": "python",
   "name": "python3"
  },
  "language_info": {
   "codemirror_mode": {
    "name": "ipython",
    "version": 3
   },
   "file_extension": ".py",
   "mimetype": "text/x-python",
   "name": "python",
   "nbconvert_exporter": "python",
   "pygments_lexer": "ipython3",
   "version": "3.8.8"
  },
  "toc": {
   "base_numbering": 1,
   "nav_menu": {},
   "number_sections": true,
   "sideBar": true,
   "skip_h1_title": false,
   "title_cell": "Table of Contents",
   "title_sidebar": "Contents",
   "toc_cell": false,
   "toc_position": {},
   "toc_section_display": true,
   "toc_window_display": false
  }
 },
 "nbformat": 4,
 "nbformat_minor": 5
}
