{
 "cells": [
  {
   "cell_type": "code",
   "execution_count": 1,
   "id": "59b1ac30",
   "metadata": {},
   "outputs": [],
   "source": [
    "# multidimensional arrays\n",
    "import numpy as np\n",
    "import math\n",
    "\n",
    "# inline plots\n",
    "import matplotlib.pyplot as plt\n",
    "%matplotlib inline\n",
    "\n",
    "# nicer figures\n",
    "import matplotlib as mpl\n",
    "mpl.rcParams['axes.titlesize'] = 16\n",
    "mpl.rcParams['axes.labelsize'] = 14\n",
    "mpl.rcParams['xtick.labelsize'] = 12\n",
    "mpl.rcParams['ytick.labelsize'] = 12\n",
    "mpl.rcParams['legend.fontsize'] = 7.5\n",
    "plt.rcParams[\"figure.figsize\"] = (7,5)\n",
    "\n",
    "#3d plot\n",
    "from mpl_toolkits import mplot3d\n"
   ]
  },
  {
   "cell_type": "code",
   "execution_count": 2,
   "id": "872beac4",
   "metadata": {},
   "outputs": [],
   "source": [
    "#reading omega_v\n",
    "omega = np.loadtxt(\"omega.txt\", usecols=0, dtype='double')\n",
    "\n",
    "#reading fraction of particles inside\n",
    "n_f1 = np.loadtxt(\"p_inside_0.1.txt\", usecols=0, dtype='double')"
   ]
  },
  {
   "cell_type": "code",
   "execution_count": 5,
   "id": "b897f974",
   "metadata": {},
   "outputs": [
    {
     "data": {
      "image/png": "[encoded data removed]",
      "text/plain": [
       "<Figure size 504x360 with 1 Axes>"
      ]
     },
     "metadata": {
      "needs_background": "light"
     },
     "output_type": "display_data"
    }
   ],
   "source": [
    "# Plotting \n",
    "plt.plot(omega, n_f1)\n",
    "\n",
    "# add axis labels\n",
    "plt.xlabel(\"$\\omega_v$\")\n",
    "plt.ylabel(\"Fraction of particle inside\")\n",
    "\n",
    "# add grid\n",
    "plt.grid(linestyle = '--', linewidth = 0.2)\n",
    "\n",
    "# save plot as pdf\n",
    "plt.savefig(\"plot_10.pdf\")\n"
   ]
  },
  {
   "cell_type": "code",
   "execution_count": null,
   "id": "3358ef84",
   "metadata": {},
   "outputs": [],
   "source": []
  }
 ],
 "metadata": {
  "kernelspec": {
   "display_name": "Python 3 (ipykernel)",
   "language": "python",
   "name": "python3"
  },
  "language_info": {
   "codemirror_mode": {
    "name": "ipython",
    "version": 3
   },
   "file_extension": ".py",
   "mimetype": "text/x-python",
   "name": "python",
   "nbconvert_exporter": "python",
   "pygments_lexer": "ipython3",
   "version": "3.9.10"
  },
  "toc": {
   "base_numbering": 1,
   "nav_menu": {},
   "number_sections": true,
   "sideBar": true,
   "skip_h1_title": false,
   "title_cell": "Table of Contents",
   "title_sidebar": "Contents",
   "toc_cell": false,
   "toc_position": {},
   "toc_section_display": true,
   "toc_window_display": false
  }
 },
 "nbformat": 4,
 "nbformat_minor": 5
}
